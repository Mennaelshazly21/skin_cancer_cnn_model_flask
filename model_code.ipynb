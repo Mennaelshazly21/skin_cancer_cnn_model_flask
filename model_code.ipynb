{
  "nbformat": 4,
  "nbformat_minor": 0,
  "metadata": {
    "colab": {
      "provenance": []
    },
    "kernelspec": {
      "name": "python3",
      "display_name": "Python 3"
    },
    "language_info": {
      "name": "python"
    }
  },
  "cells": [
    {
      "cell_type": "code",
      "execution_count": null,
      "metadata": {
        "id": "eL2uCJwAuLbX"
      },
      "outputs": [],
      "source": [
        "import keras as keras\n",
        "import numpy as np\n",
        "from numpy import expand_dims\n",
        "from tensorflow import keras\n",
        "import tensorflow as tf\n",
        "from keras import callbacks\n",
        "from keras.callbacks import EarlyStopping\n",
        "\n",
        "import matplotlib\n",
        "import PIL\n",
        "from matplotlib import pyplot as plt\n",
        "from keras.models import Sequential\n",
        "from keras.models import load_model\n",
        "from keras.preprocessing.image import ImageDataGenerator\n",
        "from keras.layers import GlobalMaxPool2D,Conv2D ,Lambda,MaxPooling2D, Dropout, Flatten, Dense, Activation, BatchNormalization\n",
        "from keras.callbacks import ModelCheckpoint\n",
        "from keras.constraints import maxnorm\n",
        "import os\n",
        "import cv2\n",
        "from tensorflow.python.layers import layers"
      ]
    },
    {
      "cell_type": "code",
      "source": [
        "\n",
        "train_folder = r\"/content/drive/MyDrive/archive_2/train\"\n",
        "print(train_folder)\n",
        "test_folder = r\"/content/drive/MyDrive/archive_2/test\"\n",
        "print(test_folder)"
      ],
      "metadata": {
        "colab": {
          "base_uri": "https://localhost:8080/"
        },
        "id": "4npLxzD9vd3y",
        "outputId": "38eb9c53-adb8-444a-d34e-829807429959"
      },
      "execution_count": null,
      "outputs": [
        {
          "output_type": "stream",
          "name": "stdout",
          "text": [
            "/content/drive/MyDrive/archive_2/train\n",
            "/content/drive/MyDrive/archive_2/test\n"
          ]
        }
      ]
    },
    {
      "cell_type": "code",
      "source": [
        "training_data = []\n",
        "testing_data = []\n",
        "image_size = 50\n",
        "categories=['benign','malignant']"
      ],
      "metadata": {
        "id": "aISEqXV9vpML"
      },
      "execution_count": null,
      "outputs": []
    },
    {
      "cell_type": "code",
      "source": [
        "for category in categories:\n",
        "    path=os.path.join(train_folder,category)\n",
        "    class_num=categories.index(category)\n",
        "    for img in os.listdir(path):\n",
        "        try:\n",
        "            img_array=cv2.imread(os.path.join(path,img),cv2.IMREAD_GRAYSCALE)\n",
        "            new_array=cv2.resize(img_array,(image_size,image_size))\n",
        "            training_data.append([new_array,class_num])\n",
        "\n",
        "        except Exception as e:\n",
        "            pass\n",
        "x_train=[]\n",
        "y_train=[]\n",
        "for features,labels in training_data:\n",
        "    x_train.append(features)\n",
        "    y_train.append(labels)\n",
        "\n",
        "x_train=np.array(x_train).reshape(-1,image_size,image_size,1)\n",
        "from keras.utils.np_utils import to_categorical\n",
        "y_train=to_categorical(y_train)"
      ],
      "metadata": {
        "id": "MysaaZm7vtFC"
      },
      "execution_count": null,
      "outputs": []
    },
    {
      "cell_type": "code",
      "source": [
        "for category in categories:\n",
        "    path=os.path.join(test_folder,category)\n",
        "    class_num=categories.index(category)\n",
        "    for img in os.listdir(path):\n",
        "        try:\n",
        "            img_array=cv2.imread(os.path.join(path,img),cv2.IMREAD_GRAYSCALE)\n",
        "            new_array=cv2.resize(img_array,(image_size,image_size))\n",
        "            testing_data.append([new_array,class_num])\n",
        "        except Exception as e:\n",
        "            pass\n",
        "\n",
        "x_test=[]\n",
        "y_test=[]\n",
        "for features,labels in training_data:\n",
        "    x_test.append(features)\n",
        "    y_test.append(labels)\n",
        "x_test=np.array(x_test).reshape(-1,image_size,image_size,1)\n",
        "from keras.utils.np_utils import to_categorical\n",
        "y_test=to_categorical(y_test)"
      ],
      "metadata": {
        "id": "PJvrvwadwAeS"
      },
      "execution_count": null,
      "outputs": []
    },
    {
      "cell_type": "code",
      "source": [
        "model=keras.Sequential()\n",
        "model.add(Conv2D(64, (5, 5), padding='same', activation='relu', kernel_initializer='he_uniform', input_shape=(image_size,image_size, 1)))\n",
        "model.add(BatchNormalization())\n",
        "model.add(MaxPooling2D((2, 2)))\n",
        "model.add(Dropout(0.25))\n",
        "model.add(Flatten())\n",
        "model.add(Dense(100, activation='relu', kernel_initializer='he_uniform'))\n",
        "model.add(Dense(2, activation='sigmoid'))\n",
        "model.compile(optimizer='Adagrad', loss='binary_crossentropy', metrics=['accuracy'])"
      ],
      "metadata": {
        "id": "mgv2UCZpwFdA"
      },
      "execution_count": null,
      "outputs": []
    },
    {
      "cell_type": "code",
      "source": [
        "calls=EarlyStopping(monitor=\"loss\",\n",
        " mode=\"min\",\n",
        " patience=3,\n",
        " restore_best_weights=True                   )\n"
      ],
      "metadata": {
        "id": "rbrAhxJawR-r"
      },
      "execution_count": null,
      "outputs": []
    },
    {
      "cell_type": "code",
      "source": [
        "model.fit(x=x_train,\n",
        "  y=y_train,batch_size=30,\n",
        "  shuffle=True,\n",
        "  epochs=10,\n",
        " callbacks=calls)\n",
        "model.save(\"model.h5\")\n"
      ],
      "metadata": {
        "colab": {
          "base_uri": "https://localhost:8080/"
        },
        "id": "cle67prbwXpT",
        "outputId": "e548e153-2620-41c8-8952-b2a0f92b4ff6"
      },
      "execution_count": null,
      "outputs": [
        {
          "output_type": "stream",
          "name": "stdout",
          "text": [
            "Epoch 1/10\n",
            "88/88 [==============================] - 16s 172ms/step - loss: 0.7335 - accuracy: 0.6227\n",
            "Epoch 2/10\n",
            "88/88 [==============================] - 15s 173ms/step - loss: 0.5701 - accuracy: 0.7133\n",
            "Epoch 3/10\n",
            "88/88 [==============================] - 15s 173ms/step - loss: 0.5289 - accuracy: 0.7471\n",
            "Epoch 4/10\n",
            "88/88 [==============================] - 15s 171ms/step - loss: 0.4969 - accuracy: 0.7672\n",
            "Epoch 5/10\n",
            "88/88 [==============================] - 16s 180ms/step - loss: 0.4686 - accuracy: 0.7873\n",
            "Epoch 6/10\n",
            "88/88 [==============================] - 15s 172ms/step - loss: 0.4584 - accuracy: 0.7831\n",
            "Epoch 7/10\n",
            "88/88 [==============================] - 15s 173ms/step - loss: 0.4512 - accuracy: 0.7895\n",
            "Epoch 8/10\n",
            "88/88 [==============================] - 15s 171ms/step - loss: 0.4372 - accuracy: 0.7964\n",
            "Epoch 9/10\n",
            "88/88 [==============================] - 15s 173ms/step - loss: 0.4240 - accuracy: 0.7998\n",
            "Epoch 10/10\n",
            "88/88 [==============================] - 15s 175ms/step - loss: 0.4129 - accuracy: 0.8176\n"
          ]
        }
      ]
    },
    {
      "cell_type": "code",
      "source": [],
      "metadata": {
        "id": "fKnyMrtSy2UR"
      },
      "execution_count": null,
      "outputs": []
    }
  ]
}